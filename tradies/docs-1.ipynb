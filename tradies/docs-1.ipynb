{
 "cells": [
  {
   "cell_type": "markdown",
   "id": "4fe1978f",
   "metadata": {},
   "source": [
    "ok- we are going to try and utilize a consolidation of everything we've built. \n",
    "\n",
    "We're embarking on a 100-day journey here to learn how to day-trade futures.. and I know nothing about Futures. So, lets try to break this down. \n",
    "\n",
    "#### 1. What are futures?\n",
    " Futures are exchange-traded, standardized contracts to buy or sell an asset (an index, commodity, currency, interest rate, etc.) at a future date. Day-trading is the speculation on short-term price moves without owning the underlying asset. \n",
    "\n",
    "In simpler terms, Futures represent a fixed quantity of one underlying commodity (oil, wheat, gold). Sn index basket is a measurement such as SP500 and Nasdaq100, which track the collective movement of stocks. Financial benchmark futures track rates and other financial measures such as interest rates, currency's, volatility index, etc. \n",
    "\n",
    "Note:\n",
    "Futures prices reflect expectations of where the underlying index (TSX 60) will be at contract expiry.\n",
    "For day trading, you’re just speculating on short-term price movement, not holding to expiry.\n",
    "\n",
    "How volatile are futures? For that you'll have to review the liquidity to determine how frequently the Future is purchased at the expected price. \n"
   ]
  },
  {
   "cell_type": "markdown",
   "id": "6ac30731",
   "metadata": {},
   "source": [
    "**Micro E-mini S&P 500 (MES)**\n",
    "1/10 size of the regular E-mini\n",
    "≈ USD 1 200–1 500\n",
    "Ultra-liquid, responds well to sentiment/news, tradable from small accounts.\n",
    "\n",
    "**Micro E-mini Nasdaq 100 (MNQ)**\n",
    "Tech-weighted micro index\n",
    "≈ USD 1 500–1 700\n",
    "Great volatility → more intraday opportunity.\n"
   ]
  },
  {
   "cell_type": "markdown",
   "id": "d6a82097",
   "metadata": {},
   "source": [
    "| Instrument | Type | Typical Tick | Tick Value (approx) | Why traders like it |\n",
    "|---|---:|---:|---:|---|\n",
    "| ES (E‑mini S&P 500) | Index futures | 0.25 index points | $12.50 per tick | Deep liquidity, tight spreads, representative of broad US equity market |\n",
    "| NQ (E‑mini Nasdaq‑100) | Index futures (tech‑heavy) | 0.25 index points | $5.00 per tick (varies by contract specification) | Tech‑skewed, higher intraday volatility than ES |\n",
    "| CL (Crude Oil) | Commodity futures | $0.01 per barrel | $10 per tick (per contract) | Large intraday moves on news, global macro sensitivity |\n",
    "| GC (Gold) | Commodity futures | $0.10 per troy oz | $10 per tick (approx, depends on contract) | Safe‑haven flows, reacts to rates and dollar strength |\n",
    "\n",
    "*Notes: tick values above are approximate — always confirm exact specs with your broker or the exchange product page.*"
   ]
  },
  {
   "cell_type": "markdown",
   "id": "dcb75122",
   "metadata": {},
   "source": [
    "**Contract‑specs checklist (where to find details)**\n",
    "\n",
    "- Exchange product page (CME, ICE, etc.) — source of truth for contract size, tick, tick value, expiration months, and delivery rules.\n",
    "- Your broker’s product spec sheet — sometimes shows margin requirements and example P&L calculations.\n",
    "- Market data provider (e.g., TradingView, Bloomberg) — shows live tick/price behavior and typical daily range.\n",
    "- Calculator steps for a quick check:\n",
    "  1. Confirm contract multiplier (e.g., ES multiplier is 50 or tick value-derived).  \n",
    "  2. Confirm tick size (e.g., 0.25) and compute tick value (tick * multiplier).  \n",
    "  3. Check initial and maintenance margin (from broker/exchange).  \n",
    "  4. Use historical ATR or average range to set realistic stop distances and position size.\n",
    "\n",
    "*Tip: bookmark the exchange product page for each instrument you trade (ES, NQ, CL, GC) — it avoids costly assumptions.*"
   ]
  },
  {
   "cell_type": "markdown",
   "id": "169db97a",
   "metadata": {},
   "source": [
    "| Section | Details |\n",
    "|---|---|\n",
    "| Setup & preparation | - Pick instruments & contracts: choose instrument family (index/commodity/FX). Start with liquid instruments (ES, NQ, CL, GC) and front-month or continuous front-month. Decide standard vs micro by account size.<br>- Know specs: contract size, tick size, tick value, trading hours, settlement.<br>- Trading plan: market hours, strategy (momentum/mean reversion/news), entry/exit rules, risk per trade.<br>- Tools/data: fast broker, reliable market data, order-flow/volume charts, economic calendar.<br>- Pre-market: check overnight action & macro events; set watchlist and levels (overnight high/low, VWAP, S/R). |\n",
    "| Intraday execution | - Observe open: watch first 30–60m for regime; scalpers may act earlier.<br>- Triggers: breakout, pullback, volume spike, VWAP test, order-flow signals.<br>- Orders: use limit for entries, market/IOC for urgent entries/exits.<br>- Position mgmt: defined stop (ticks/$), targets, scale in/out.<br>- Timebox: close before cutoff to avoid overnight risk.<br>- Execution focus: monitor liquidity & depth; reduce size if spreads widen. |\n",
    "| Risk management | - Risk per trade: set $ or % (e.g., 0.25–1%).<br>- Position size = Dollar risk / (stop ticks * tick value).<br>- Use protective stops; if widening stops, reduce size.<br>- Daily loss limit: stop trading after max loss.<br>- Include slippage & commissions when sizing. |\n",
    "| Psychology & edge | - Maintain small repeatable edge (speed, pattern, order flow).<br>- Avoid revenge trading; use pre-trade checklist (reason, edge, risk, plan).<br>- Keep a trade journal and review weekly. |\n",
    "| Example (numbers) | - Account $25,000; risk 1% = $250.<br>- Instrument ES; tick $12.50; stop = 4 ticks.<br>- Dollar risk/contract = 4 * $12.50 = $50 → position = 5 contracts.<br>- Include expected slippage/commissions (~$10 round trip) in plan. |\n",
    "| Practical tips & pitfalls | - Start small; use micro contracts to learn.<br>- Don’t over-leverage; leverage increases loss risk.<br>- Avoid low-liquidity times & major news unless prepared.<br>- Paper/simulate until consistent. |"
   ]
  },
  {
   "cell_type": "markdown",
   "id": "27da9008",
   "metadata": {},
   "source": [
    "**Definitions:**  \n",
    "\n",
    "i. Standardized Contract: A futures contract that is issued and traded on an exchange with fixed, well-defined terms. These terms include the contract size (how much of the underlying it represents), the tick size (the smallest allowable price movement), tick value (dollar value per tick), the contract months/expiration dates, delivery specifications (if physical delivery is allowed) or cash-settlement rules, and trading hours. Standardization means every contract of the same symbol has identical specifications, which improves liquidity, makes pricing transparent, and allows contracts to be fungible and easily traded or hedged.\n",
    "\n",
    "ii. Asset: The underlying item or economic variable that the futures contract represents. An asset can be a physical commodity (e.g., crude oil, wheat), a financial instrument (e.g., a stock index like the S&P 500, a currency pair), or a financial benchmark (e.g., an interest rate or volatility index). Day traders don't need to own the asset itself — they trade the futures contract that tracks the asset's price movement.\n",
    "\n",
    "iii. (Depth of Market) -\n",
    "a. Liquidity\n",
    "b. momentum\n",
    "\n",
    "iv. ask: someone placed an order to sell at that price. It’s resting until a buyer accepts it. From example, a market buy will “hit the ask” at 5000.25.\n",
    "\n",
    "v. bid: someone placed an order to buy at that price. It’s resting on the order book until a seller accepts it. From example, a market sell will “hit the bid” at 5000.00."
   ]
  },
  {
   "cell_type": "markdown",
   "id": "6775bfba",
   "metadata": {},
   "source": [
    "For fun:\n",
    "\"More liquidity means tighter spreads, lower slippage, better fills, and more reliable signals from price action.\"\n",
    "\n",
    "Definitions:\n",
    "a. liquidity - How easily an instrument can be bought or sold at/near the displayed price without moving the market. Measured by volume, order‑book depth, and speed of fills.\n",
    "b. spreads - The difference between the best (highest) bid price and the best (lowest) ask price at a given moment.\n",
    "c. slipage\n",
    "d. fills\n",
    "e. signals"
   ]
  },
  {
   "cell_type": "markdown",
   "id": "84deea93",
   "metadata": {},
   "source": []
  },
  {
   "cell_type": "markdown",
   "id": "73b3ad39",
   "metadata": {},
   "source": []
  }
 ],
 "metadata": {
  "language_info": {
   "name": "python"
  }
 },
 "nbformat": 4,
 "nbformat_minor": 5
}

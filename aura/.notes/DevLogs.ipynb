{
 "cells": [
  {
   "cell_type": "markdown",
   "id": "c330839c",
   "metadata": {},
   "source": [
    "## AURA: Welcome to Devlogs - The Total Audience Control management scroll."
   ]
  },
  {
   "cell_type": "markdown",
   "id": "d6e780e3",
   "metadata": {},
   "source": [
    "![Repository Views Since Release](https://visitor-badge.laobi.icu/badge?page_id=matthewsimon.EAC)"
   ]
  },
  {
   "cell_type": "markdown",
   "id": "e8c2b633",
   "metadata": {},
   "source": [
    "[![Next.js](https://img.shields.io/badge/Next.js-15-000000?logo=next.js&logoColor=white&labelColor=101010)](https://nextjs.org/) [![React](https://img.shields.io/badge/React-18-61DAFB?logo=react&logoColor=white&labelColor=101010)](https://reactjs.org/) [![TypeScript](https://img.shields.io/badge/TypeScript-5-3178C6?logo=typescript&logoColor=white&labelColor=101010)](https://www.typescriptlang.org/) [![Tailwind CSS](https://img.shields.io/badge/Tailwind_CSS-4-06B6D4?logo=tailwindcss&logoColor=white&labelColor=101010)](https://tailwindcss.com/) [![Zustand](https://img.shields.io/badge/Zustand-State_Management-FF6B35?logo=react&logoColor=white&labelColor=101010)](https://github.com/pmndrs/zustand) [![Convex](https://img.shields.io/badge/Convex-DB-FF6B35?logo=data%3Adownload&logoColor=white&labelColor=101010)](https://convex.dev/) [![Anthropic](https://img.shields.io/badge/Anthropic-Claude-FF6B35?logo=anthropic&logoColor=white&labelColor=101010)](https://anthropic.com/) [![pnpm](https://img.shields.io/badge/pnpm-Workspace-F69220?logo=pnpm&logoColor=white&labelColor=101010)](https://pnpm.io/)"
   ]
  },
  {
   "cell_type": "markdown",
   "id": "2f1f0a9d",
   "metadata": {},
   "source": [
    "```text\n",
    "_________________________   _____________  ________  ___\n",
    "___  ____/__    |_  ____/   __  ___/__   |/  /__   |/  /\n",
    "__  __/  __  /| |  /        _____ \\__  /|_/ /__  /|_/ / \n",
    "_  /___  _  ___ / /___      ____/ /_  /  / / _  /  / /  \n",
    "/_____/  /_/  |_\\____/      /____/ /_/  /_/  /_/  /_/  \n",
    "```\n",
    "\n",
    "**Version:** `1.0.0` | **Last Updated:** 2025-02-21 | **License:** PRIVATE | **Status:** Active Development"
   ]
  },
  {
   "cell_type": "markdown",
   "id": "a5d9b3c7",
   "metadata": {},
   "source": [
    "Soon, all these posts will be automated using the very product we're building. AURA is your audience control and management platform. Our goal is to help new content creates broadcast content across a range of platforms in order to satisfy their audience. We call this audience control management, and that's what we do."
   ]
  },
  {
   "cell_type": "markdown",
   "id": "1252b60f",
   "metadata": {},
   "source": [
    "Our project is comprised of Next.Js architecture, with Convex as our backend database. We primarily write in React/ Typescript, using Tailwind CSS as our style configuration.   \n",
    "We also use ShadCN as our primairy design/ component library, before applying our unique and distinct branding. "
   ]
  },
  {
   "cell_type": "markdown",
   "id": "63cecda9",
   "metadata": {},
   "source": [
    "to begin development, we're creating a NextJs project with a Convex backend via the Convex Docs: https://docs.convex.dev/quickstart/nextjs\n",
    "\n",
    "Convex is an all-in-one backend and database that integrates quickly and easily with Next.js. We are going to set up hosting, server rendering, and auth. Query data from Convex in a Next.js app using the App Router and TypeScript."
   ]
  },
  {
   "cell_type": "markdown",
   "id": "f7cb5e67",
   "metadata": {},
   "source": [
    "**Setup:**   \n",
    "Using package manager: npm    \n",
    "✔ Project name: … AURA   \n",
    "✔ Package name: … aura   \n",
    "✔ Choose a client: › Next.js App Router   \n",
    "✔ Choose user authentication: › Clerk (requires Clerk account)"
   ]
  },
  {
   "cell_type": "markdown",
   "id": "aee5ab22",
   "metadata": {},
   "source": [
    "**Completed Setup Items:**\n",
    "1. ✅ Added Convex client instructions to Copilot with official guidelines from Convex docs\n",
    "2. ✅ Set up Convex MCP server for enhanced AI coding assistance \n",
    "3. ✅ Configured pnpm workspace structure\n",
    "4. ✅ Enhanced Copilot instructions with expert-level guidelines\n",
    "\n",
    "**Next Steps:**\n",
    "1. Add the Convex client to the layout code when implementing the frontend\n",
    "2. Set up Clerk authentication integration\n",
    "3. Begin building the audience control management features"
   ]
  },
  {
   "cell_type": "markdown",
   "id": "16ffc979",
   "metadata": {},
   "source": [
    "**How Copilot Uses Instructions**\n",
    "1. Repository Custom Instructions (copilot-instructions.md)   \n",
    "✅ Automatically included in every Copilot Chat request   \n",
    "✅ Always active when working in the repository   \n",
    "✅ Visible in References section of chat responses   \n",
    "✅ No manual activation required   \n",
    "2. Specialized Instruction Files (.github/instructions/*.instructions.md)   \n",
    "🎯 Applied based on file context (via applyTo frontmatter)   \n",
    "🎯 Automatically triggered when working on matching files   \n",
    "🎯 File-specific guidance only when relevant\n",
    "3. Current Status Check   \n",
    "✅ Your Current Setup Analysis"
   ]
  },
  {
   "cell_type": "markdown",
   "id": "41ed5a50",
   "metadata": {},
   "source": [
    "**pnpm Workspace**\n",
    "\n",
    "AURA project uses a pnpm workspace monorepo - a single repository that can contain multiple related packages and applications, all managed by pnpm. This allows us to incorporate more non-technical details within the repo which helps us consolidate the overall dev-ops. \n",
    "\n",
    "Setup:\n",
    "1. pnpm-workspace.yaml - Defines which folders are workspace packages\n",
    "2. package.json - Manages shared dev dependencies (Prettier, TypeScript, ESLint)\n",
    "\n",
    "Commands:\n",
    "1. pnpm run dev          # Runs dev scripts in ALL workspace packages\n",
    "2. pnpm install          # Installs all dependencies across workspace\n",
    "3. pnpm add -w prettier  # Adds to workspace root (shared tools)\n",
    "4. cd AURA && pnpm run dev    # Runs only the AURA app dev server\n",
    "5. pnpm add --filter AURA react  # Adds dependency only to AURA package\n",
    "6. pnpm audit:state      # Runs state audit on codebase to review infractions\n",
    "\n",
    "\n"
   ]
  },
  {
   "cell_type": "markdown",
   "id": "2c36f256",
   "metadata": {},
   "source": [
    "Dashboard Architecture Analysis\n",
    "\n",
    "```\n",
    "┌─────┬──────────┬────────────────────┐\n",
    "│  A  │    S     │                    │\n",
    "│  C  │    I     │    DASHBOARD       │\n",
    "│  T  │    D     │                    │\n",
    "│  I  │    E     ├────────────────────┤\n",
    "│  V  │    B     │      TERMINAL      │\n",
    "│  I  │    A     │    (Collapsible)   │\n",
    "│  T  │    R     │                    │\n",
    "│  Y  │          │                    │\n",
    "└─────┴──────────┴────────────────────┘\n",
    "```"
   ]
  },
  {
   "cell_type": "markdown",
   "id": "9439e02f",
   "metadata": {},
   "source": [
    "**ShadCN Setup**\n",
    "\n",
    "matthewsimon@Matthews-MacBook-Pro AURA % npx shadcn@latest init   \n",
    "✔ Preflight checks.   \n",
    "✔ Verifying framework. Found Next.js.   \n",
    "✔ Validating Tailwind CSS config. Found v4.   \n",
    "✔ Validating import alias.   \n",
    "✔ Which color would you like to use as the base color? › Neutral   \n",
    "✔ Writing components.json.   \n",
    "✔ Checking registry.   \n",
    "✔ Updating CSS variables in app/globals.css   \n",
    "✔ Installing dependencies.  \n",
    "✔ Created 1 file:\n",
    "  - lib/utils.ts\n",
    "\n",
    "Success! Project initialization completed."
   ]
  },
  {
   "cell_type": "markdown",
   "id": "377d02de",
   "metadata": {},
   "source": [
    "## State Management Architecture"
   ]
  },
  {
   "cell_type": "markdown",
   "id": "446a7caa",
   "metadata": {},
   "source": [
    "**Philosophy: Unified State Management System**\n",
    "\n",
    "AURA implements a strict separation between server state and client state to ensure scalable, maintainable architecture as the platform grows.\n",
    "\n",
    "### 🏛️ **Core Principles**\n",
    "\n",
    "```\n",
    "Server State (Convex) = Source of Truth\n",
    "Client State (Zustand) = UI-only concerns\n",
    "```\n",
    "\n",
    "**1. Server State (Convex) - Business Data**\n",
    "- All persistent data (users, projects, files, documents)\n",
    "- Real-time synchronization across clients\n",
    "- ACID transactions and data integrity\n",
    "- Authentication and authorization\n",
    "\n",
    "**2. Client State (Zustand) - UI State Only**\n",
    "- Sidebar panel visibility and navigation\n",
    "- Terminal collapse/expand state\n",
    "- Editor tabs and themes\n",
    "- Modal dialogs and dropdowns\n",
    "\n",
    "**3. Component State (useState) - Ephemeral Only**\n",
    "- Form input values before submission\n",
    "- Temporary UI animations\n",
    "- Loading indicators for immediate actions\n",
    "- Drag and drop temporary state\n",
    "\n",
    "### 🔧 **Implementation Architecture**\n",
    "\n",
    "```\n",
    "┌─────────────┬─────────────┬─────────────┐\n",
    "│   CONVEX    │   ZUSTAND   │  COMPONENT  │\n",
    "│ (Server)    │ (Client)    │   (Local)   │\n",
    "├─────────────┼─────────────┼─────────────┤\n",
    "│ Users       │ Sidebar     │ Form Input  │\n",
    "│ Projects    │ Terminal    │ Drag State  │\n",
    "│ Files       │ Editor UI   │ Animation   │\n",
    "│ Documents   │ Themes      │ Loading     │\n",
    "│ Auth        │ Modals      │ Validation  │\n",
    "└─────────────┴─────────────┴─────────────┘\n",
    "```\n",
    "\n",
    "### 📁 **File Structure**\n",
    "\n",
    "```\n",
    "lib/\n",
    "├── store/              # Zustand stores (UI-only)\n",
    "│   ├── sidebar.ts      # Panel navigation\n",
    "│   ├── terminal.ts     # Terminal UI state\n",
    "│   └── editor.ts       # Editor tabs/settings\n",
    "├── hooks/              # Custom Convex hooks\n",
    "│   └── useNumbers.ts   # Wraps Convex queries\n",
    "convex/                 # Server functions\n",
    "├── schema.ts           # Database schema\n",
    "└── myFunctions.ts      # Queries/mutations\n",
    "```\n",
    "\n",
    "### ⚡ **Data Flow Pattern**\n",
    "\n",
    "```\n",
    "User Action → Custom Hook → Convex Mutation → Database → \n",
    "Real-time Update → useQuery → Component Re-render\n",
    "```\n",
    "\n",
    "**Example:**\n",
    "1. User clicks \"Create Project\" \n",
    "2. `useProjects()` hook calls Convex mutation\n",
    "3. Convex updates database with validation\n",
    "4. Real-time sync updates all connected clients\n",
    "5. `useQuery` automatically re-renders UI\n",
    "\n",
    "### 🛡️ **Quality Assurance**\n",
    "\n",
    "**State Audit System:** `pnpm audit:state`\n",
    "\n",
    "Automatically validates:\n",
    "- ✅ No business data in Zustand stores\n",
    "- ✅ No direct Convex usage in components  \n",
    "- ✅ Custom hooks wrap all server operations\n",
    "- ✅ Proper \"use client\" directives\n",
    "- ✅ Component state only for ephemeral data\n",
    "\n",
    "**Current Status:** ✅ PASSING (26 files audited)"
   ]
  }
 ],
 "metadata": {
  "language_info": {
   "name": "python"
  }
 },
 "nbformat": 4,
 "nbformat_minor": 5
}
